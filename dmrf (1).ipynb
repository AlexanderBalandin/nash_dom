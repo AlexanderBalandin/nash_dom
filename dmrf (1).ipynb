{
 "cells": [
  {
   "cell_type": "markdown",
   "metadata": {
    "pycharm": {
     "name": "#%% md\n"
    }
   },
   "source": [
    "# Задание\n",
    "* Собрать информацию о всех строящихся объектах на сайте \"наш.дом.рф\"\n",
    "* Cохранить ее в pandas dataframe\n",
    "* Cохранить pandas dataframe в excel\n",
    "* Cохранить pandas dataframe в pickle\n",
    "* Cохранить pandas dataframe в БД\n",
    "\n",
    "# Задание *\n",
    "* Написать скрипт, который скачивает фотографии всех строящихся объектов с сайта \"наш.дом.рф\"\n"
   ]
  },
  {
   "cell_type": "code",
   "execution_count": 1,
   "metadata": {
    "pycharm": {
     "name": "#%%\n"
    }
   },
   "outputs": [],
   "source": [
    "import requests\n",
    "import pandas as pd\n",
    "from sqlalchemy import create_engine"
   ]
  },
  {
   "cell_type": "code",
   "execution_count": 2,
   "metadata": {},
   "outputs": [],
   "source": [
    "#отключал ограничения по выводу для дф на этапе отладки\n",
    "pd.options.display.max_columns = None\n",
    "pd.options.display.max_rows = None"
   ]
  },
  {
   "cell_type": "markdown",
   "metadata": {
    "pycharm": {
     "name": "#%% md\n"
    }
   },
   "source": [
    "## Список объектов"
   ]
  },
  {
   "cell_type": "code",
   "execution_count": 3,
   "metadata": {
    "pycharm": {
     "name": "#%%\n"
    }
   },
   "outputs": [],
   "source": [
    "#задаем стартовую позицию\n",
    "offset = 0\n",
    "\n",
    "#инициализируем результирующий датафрейм\n",
    "df = pd.DataFrame()\n",
    "\n",
    "#собственно сам цикл\n",
    "while True:\n",
    "#     задание переменной url и параметров\n",
    "    url = f'https://наш.дом.рф/сервисы/api/kn/object'\n",
    "#     url = f'https://xn--80az8a.xn--d1aqf.xn--p1ai/%D1%81%D0%B5%D1%80%D0%B2%D0%B8%D1%81%D1%8B/api/kn/object'\n",
    "    params = (\n",
    "        ('offset',offset),\n",
    "        ('limit',100),\n",
    "        ('sortField','devShortCleanNm'),\n",
    "        ('sortType','asc')\n",
    "    )\n",
    "    \n",
    "    #запрос плюс преобразование результатов в джейсон и сохранение в переменную\n",
    "    res = requests.get(url,params=params)\n",
    "    objects_data = res.json()\n",
    "    \n",
    "    #получение списка Id объектов\n",
    "    objects_list = objects_data.get('data').get('list')\n",
    "    objids = [x.get('objId') for x in objects_list]\n",
    "    \n",
    "    #на каждой итерации цикла результат пишем в датафрейм\n",
    "    df = df.append(pd.json_normalize(objects_data['data']['list']))\n",
    "    \n",
    "    #проверка на завершение списка объектов - логическое условие для прерывания цикла\n",
    "    if len(objids) == 0:\n",
    "        break\n",
    "    \n",
    "    #просто для отслеживания процесса    \n",
    "#     print(len(objids),'\\n')\n",
    "#     print(offset)\n",
    "    \n",
    "    #увеличиваем позицию на максимально возможное число срок которые могут быть выведены на страницу\n",
    "    offset += 100"
   ]
  },
  {
   "cell_type": "code",
   "execution_count": 4,
   "metadata": {},
   "outputs": [],
   "source": [
    "#сохраняем в пикл и эксель\n",
    "df.to_pickle('result.pkl')\n",
    "df.to_excel('result.xlsx')"
   ]
  },
  {
   "cell_type": "code",
   "execution_count": 5,
   "metadata": {},
   "outputs": [],
   "source": [
    "#создаем базу данных\n",
    "engine = create_engine('sqlite://',echo=False)"
   ]
  },
  {
   "cell_type": "code",
   "execution_count": 6,
   "metadata": {},
   "outputs": [],
   "source": [
    "#сохраняем датафрейм в базу данных\n",
    "df.to_sql('result',con=engine)"
   ]
  },
  {
   "cell_type": "code",
   "execution_count": null,
   "metadata": {},
   "outputs": [],
   "source": [
    "#тестовая выгрузка из базы данных\n",
    "engine.execute(\"SELECT * FROM result\").fetchall()"
   ]
  }
 ],
 "metadata": {
  "kernelspec": {
   "display_name": "Python 3",
   "language": "python",
   "name": "python3"
  },
  "language_info": {
   "codemirror_mode": {
    "name": "ipython",
    "version": 3
   },
   "file_extension": ".py",
   "mimetype": "text/x-python",
   "name": "python",
   "nbconvert_exporter": "python",
   "pygments_lexer": "ipython3",
   "version": "3.8.8"
  }
 },
 "nbformat": 4,
 "nbformat_minor": 1
}
